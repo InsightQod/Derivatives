{
 "cells": [
  {
   "cell_type": "code",
   "execution_count": 2,
   "metadata": {},
   "outputs": [
    {
     "name": "stdout",
     "output_type": "stream",
     "text": [
      "Combined data saved to: /Users/xonkar/Desktop/Data_Projects/Options/Technology_Flow/Merged_Data.csv\n"
     ]
    }
   ],
   "source": [
    "import os\n",
    "import pandas as pd\n",
    "\n",
    "# Define the directory containing CSV files\n",
    "input_folder = '/Users/xonkar/Desktop/Data_Projects/Options/Technology_Flow'\n",
    "\n",
    "# Get a list of all CSV files in the directory\n",
    "csv_files = [file for file in os.listdir(input_folder) if file.endswith('.csv')]\n",
    "\n",
    "# Initialize an empty list to store DataFrames\n",
    "dfs = []\n",
    "\n",
    "# Read each CSV file and append its DataFrame to the list\n",
    "for file in csv_files:\n",
    "    file_path = os.path.join(input_folder, file)\n",
    "    df = pd.read_csv(file_path)\n",
    "    dfs.append(df)\n",
    "\n",
    "# Combine all DataFrames into a single DataFrame\n",
    "combined_df = pd.concat(dfs, ignore_index=True)\n",
    "\n",
    "# Define the directory and filename for the combined CSV file\n",
    "output_folder = '/Users/xonkar/Desktop/Data_Projects/Options/Technology_Flow'\n",
    "output_filename = 'Merged_Data.csv'\n",
    "\n",
    "# Save the combined DataFrame to a CSV file\n",
    "output_file_path = os.path.join(output_folder, output_filename)\n",
    "combined_df.to_csv(output_file_path, index=False)\n",
    "\n",
    "print(f\"Combined data saved to: {output_file_path}\")\n"
   ]
  },
  {
   "cell_type": "code",
   "execution_count": null,
   "metadata": {},
   "outputs": [],
   "source": []
  }
 ],
 "metadata": {
  "kernelspec": {
   "display_name": "Python 3",
   "language": "python",
   "name": "python3"
  },
  "language_info": {
   "codemirror_mode": {
    "name": "ipython",
    "version": 3
   },
   "file_extension": ".py",
   "mimetype": "text/x-python",
   "name": "python",
   "nbconvert_exporter": "python",
   "pygments_lexer": "ipython3",
   "version": "3.11.2"
  }
 },
 "nbformat": 4,
 "nbformat_minor": 2
}
